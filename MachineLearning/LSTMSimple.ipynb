{
 "cells": [
  {
   "cell_type": "code",
   "execution_count": 1,
   "metadata": {},
   "outputs": [
    {
     "name": "stdout",
     "output_type": "stream",
     "text": [
      "[]\n",
      "Device mapping: no known devices.\n",
      "WARNING:tensorflow:From C:\\Users\\kaira\\AppData\\Local\\Temp\\ipykernel_43748\\1310956591.py:27: The name tf.keras.backend.set_session is deprecated. Please use tf.compat.v1.keras.backend.set_session instead.\n",
      "\n"
     ]
    }
   ],
   "source": [
    "import numpy as np\n",
    "import tensorflow as tf\n",
    "from tensorflow import keras\n",
    "from tensorflow.keras import layers, models\n",
    "from tensorflow.python.keras.engine.base_preprocessing_layer import PreprocessingLayer\n",
    "import requests\n",
    "import urllib.parse\n",
    "import math\n",
    "from sklearn.preprocessing import MinMaxScaler \n",
    "import matplotlib.pyplot as plt\n",
    "import cupy as cp\n",
    "import seaborn\n",
    "from numba import cuda\n",
    "import dataset\n",
    "from importlib import reload\n",
    "import os.path\n",
    "\n",
    "reload(dataset)\n",
    "print(tf.config.list_physical_devices('GPU'))\n",
    "tf.compat.v1.enable_eager_execution()\n",
    "\n",
    "config = tf.compat.v1.ConfigProto()\n",
    "config.gpu_options.allow_growth = True  # dynamically grow the memory used on the GPU\n",
    "config.log_device_placement = True  # to log device placement (on which device the operation ran)\n",
    "                                    # (nothing gets printed in Jupyter, only if you run it standalone)\n",
    "sess = tf.compat.v1.Session(config=config)\n",
    "tf.compat.v1.keras.backend.set_session(sess)  # set this TensorFlow session as the default session for Keras\n",
    "keras.backend.set_epsilon(1)"
   ]
  },
  {
   "cell_type": "code",
   "execution_count": 2,
   "metadata": {},
   "outputs": [],
   "source": [
    "def savedata(xtrain, ytrain, xtest, ytest, name=\"data\"):\n",
    "    np.savez_compressed(os.path.join(\"saveddata\",name), timetrain=xtrain[0], idxtrain=xtrain[1], typetrain=xtrain[2], totidxtrain=xtrain[3], ytrain=ytrain,\n",
    "                       timetest=xtest[0], idxtest=xtest[1], typetest=xtest[2], totidxtest=xtest[3], ytest=ytest)\n",
    "def loaddata(name=\"data\"):\n",
    "    with np.load(os.path.join(\"saveddata\",(name if name.endswith(\".npz\") else name+\".npz\"))) as data:\n",
    "        xtrain = [data[\"timetrain\"], data[\"idxtrain\"], data[\"typetrain\"], data[\"totidxtrain\"]]\n",
    "        ytrain = data[\"ytrain\"]\n",
    "        xtest = [data[\"timetest\"], data[\"idxtest\"], data[\"typetest\"], data[\"totidxtest\"]]\n",
    "        ytest = data[\"ytest\"]\n",
    "    return xtrain, ytrain, xtest, ytest"
   ]
  },
  {
   "cell_type": "code",
   "execution_count": 18,
   "metadata": {},
   "outputs": [
    {
     "name": "stdout",
     "output_type": "stream",
     "text": [
      "★ M9 Bayonet | Fade (Factory New)\n",
      "StatTrak™ AK-47 | Ice Coaled (Factory New)\n",
      "Recoil Case\n",
      "CS:GO Weapon Case\n",
      "Sticker | s1mple (Gold) | Katowice 2019\n",
      "Sealed Graffiti | NaCl (Shark White)\n",
      "Canals Pin\n",
      "StatTrak™ Music Kit | Hundredth, FREE\n",
      "Stockholm 2021 Challengers Patch Pack\n",
      "Number K | The Professionals\n",
      "★ Broken Fang Gloves | Needle Point (Field-Tested)\n",
      "AWP | Asiimov (Well-Worn)\n",
      "timeinputstrain.shape=(14714, 60, 1)\n",
      "idxinputstrain.shape=(14714,)\n",
      "typeinputstrain.shape=(14714,)\n",
      "totidxinputstrain.shape=(14714,)\n",
      "ytrain.shape=(14714, 1)\n",
      "timeinputstest.shape=(3679, 60, 1)\n",
      "idxinputstest.shape=(3679,)\n",
      "typeinputstest.shape=(3679,)\n",
      "totidxinputstest.shape=(3679,)\n",
      "ytest.shape=(3679, 1)\n"
     ]
    }
   ],
   "source": [
    "lookback=60\n",
    "xtrain, ytrain, xtest, ytest = dataset.getdata(lookback=lookback, items = [\n",
    "    (\"★ M9 Bayonet | Fade (Factory New)\", \"Knife\"),\n",
    "    (\"StatTrak™ AK-47 | Ice Coaled (Factory New)\", \"Gun\"),\n",
    "    (\"Recoil Case\", \"Case\"),\n",
    "    (\"CS:GO Weapon Case\", \"Case\"),\n",
    "    (\"Sticker | s1mple (Gold) | Katowice 2019\", \"Sticker\"),\n",
    "    (\"Sealed Graffiti | NaCl (Shark White)\", \"Graffiti\"),\n",
    "    (\"Canals Pin\", \"Pin\"),\n",
    "    (\"StatTrak™ Music Kit | Hundredth, FREE\", \"Music\"),\n",
    "    (\"Stockholm 2021 Challengers Patch Pack\", \"Patch\"),\n",
    "    (\"Number K | The Professionals\", \"Agent\"),\n",
    "    (\"★ Broken Fang Gloves | Needle Point (Field-Tested)\", \"Gloves\"),\n",
    "    (\"AWP | Asiimov (Well-Worn)\", \"Gun\"),\n",
    "    # (\"AWP | Asiimov (Factory New)\", \"Gun\"),\n",
    "    # (\"★ Broken Fang Gloves | Needle Point (Well-Worn)\", \"Gloves\"),\n",
    "])\n",
    "savedata(xtrain, ytrain, xtest, ytest)"
   ]
  },
  {
   "cell_type": "code",
   "execution_count": 10,
   "metadata": {},
   "outputs": [
    {
     "name": "stdout",
     "output_type": "stream",
     "text": [
      "CPU times: total: 46.9 ms\n",
      "Wall time: 38.8 ms\n"
     ]
    }
   ],
   "source": [
    "%%time\n",
    "xtrain, ytrain, xtest, ytest = loaddata()\n",
    "lookback = len(xtrain[0][0])"
   ]
  },
  {
   "cell_type": "code",
   "execution_count": 11,
   "metadata": {},
   "outputs": [
    {
     "name": "stdout",
     "output_type": "stream",
     "text": [
      "Model: \"model\"\n",
      "__________________________________________________________________________________________________\n",
      " Layer (type)                   Output Shape         Param #     Connected to                     \n",
      "==================================================================================================\n",
      " input_1 (InputLayer)           [(None, 60, 1)]      0           []                               \n",
      "                                                                                                  \n",
      " normalization (Normalization)  (None, 60, 1)        3           ['input_1[0][0]']                \n",
      "                                                                                                  \n",
      " gru (GRU)                      (None, 60, 80)       19920       ['normalization[0][0]']          \n",
      "                                                                                                  \n",
      " gru_1 (GRU)                    (None, 60, 80)       38880       ['gru[0][0]']                    \n",
      "                                                                                                  \n",
      " gru_2 (GRU)                    (None, 60, 80)       38880       ['gru_1[0][0]']                  \n",
      "                                                                                                  \n",
      " gru_3 (GRU)                    (None, 60, 80)       38880       ['gru_2[0][0]']                  \n",
      "                                                                                                  \n",
      " gru_4 (GRU)                    (None, 60, 80)       38880       ['gru_3[0][0]']                  \n",
      "                                                                                                  \n",
      " input_3 (InputLayer)           [(None, 1)]          0           []                               \n",
      "                                                                                                  \n",
      " gru_5 (GRU)                    (None, 80)           38880       ['gru_4[0][0]']                  \n",
      "                                                                                                  \n",
      " input_2 (InputLayer)           [(None, 1)]          0           []                               \n",
      "                                                                                                  \n",
      " string_lookup (StringLookup)   (None, 2)            0           ['input_3[0][0]']                \n",
      "                                                                                                  \n",
      " input_4 (InputLayer)           [(None, 1)]          0           []                               \n",
      "                                                                                                  \n",
      " reshape_3 (Reshape)            (None, 80, 1)        0           ['gru_5[0][0]']                  \n",
      "                                                                                                  \n",
      " reshape_1 (Reshape)            (None, 1, 1)         0           ['input_2[0][0]']                \n",
      "                                                                                                  \n",
      " reshape (Reshape)              (None, 2, 1)         0           ['string_lookup[0][0]']          \n",
      "                                                                                                  \n",
      " reshape_2 (Reshape)            (None, 1, 1)         0           ['input_4[0][0]']                \n",
      "                                                                                                  \n",
      " concatenate (Concatenate)      (None, 84, 1)        0           ['reshape_3[0][0]',              \n",
      "                                                                  'reshape_1[0][0]',              \n",
      "                                                                  'reshape[0][0]',                \n",
      "                                                                  'reshape_2[0][0]']              \n",
      "                                                                                                  \n",
      " reshape_4 (Reshape)            (None, 1, 84)        0           ['concatenate[0][0]']            \n",
      "                                                                                                  \n",
      " dense (Dense)                  (None, 1, 20)        1700        ['reshape_4[0][0]']              \n",
      "                                                                                                  \n",
      " dense_1 (Dense)                (None, 1, 20)        420         ['dense[0][0]']                  \n",
      "                                                                                                  \n",
      " dense_2 (Dense)                (None, 1, 20)        420         ['dense_1[0][0]']                \n",
      "                                                                                                  \n",
      " dense_3 (Dense)                (None, 1, 20)        420         ['dense_2[0][0]']                \n",
      "                                                                                                  \n",
      " dense_4 (Dense)                (None, 1, 20)        420         ['dense_3[0][0]']                \n",
      "                                                                                                  \n",
      " dense_5 (Dense)                (None, 1, 20)        420         ['dense_4[0][0]']                \n",
      "                                                                                                  \n",
      " dense_6 (Dense)                (None, 1, 20)        420         ['dense_5[0][0]']                \n",
      "                                                                                                  \n",
      " dense_7 (Dense)                (None, 1, 20)        420         ['dense_6[0][0]']                \n",
      "                                                                                                  \n",
      " dense_8 (Dense)                (None, 1, 20)        420         ['dense_7[0][0]']                \n",
      "                                                                                                  \n",
      " dense_9 (Dense)                (None, 1, 20)        420         ['dense_8[0][0]']                \n",
      "                                                                                                  \n",
      " dense_10 (Dense)               (None, 1, 20)        420         ['dense_9[0][0]']                \n",
      "                                                                                                  \n",
      " dense_11 (Dense)               (None, 1, 20)        420         ['dense_10[0][0]']               \n",
      "                                                                                                  \n",
      " dense_12 (Dense)               (None, 1, 20)        420         ['dense_11[0][0]']               \n",
      "                                                                                                  \n",
      " dense_13 (Dense)               (None, 1, 20)        420         ['dense_12[0][0]']               \n",
      "                                                                                                  \n",
      " dense_14 (Dense)               (None, 1, 20)        420         ['dense_13[0][0]']               \n",
      "                                                                                                  \n",
      " dense_15 (Dense)               (None, 1, 20)        420         ['dense_14[0][0]']               \n",
      "                                                                                                  \n",
      " dense_16 (Dense)               (None, 1, 20)        420         ['dense_15[0][0]']               \n",
      "                                                                                                  \n",
      " dense_17 (Dense)               (None, 1, 20)        420         ['dense_16[0][0]']               \n",
      "                                                                                                  \n",
      " dense_18 (Dense)               (None, 1, 20)        420         ['dense_17[0][0]']               \n",
      "                                                                                                  \n",
      " dense_19 (Dense)               (None, 1, 20)        420         ['dense_18[0][0]']               \n",
      "                                                                                                  \n",
      " dense_20 (Dense)               (None, 1, 1)         21          ['dense_19[0][0]']               \n",
      "                                                                                                  \n",
      "==================================================================================================\n",
      "Total params: 224,024\n",
      "Trainable params: 224,021\n",
      "Non-trainable params: 3\n",
      "__________________________________________________________________________________________________\n"
     ]
    }
   ],
   "source": [
    "rnnlayer = layers.GRU\n",
    "def getmodel():\n",
    "    \"\"\"m = keras.Sequential([\n",
    "        ,\n",
    "        layers.Dense(80),\n",
    "        layers.GRU(80, return_sequences=False, input_shape=(lookback, 1)),\n",
    "        layers.Dense(25),\n",
    "        layers.Dense(1),\n",
    "    ])\"\"\"\n",
    "    \n",
    "    '''vocab = [\"Gloves\", \"Agent\", \"Patch\", \"Music\", \"Pin\", \"Graffiti\", \"Sticker\", \"Case\", \"Knife\", \"Gun\"]\n",
    "    timeinput = keras.Input(shape=(lookback, 1))\n",
    "    idxinput = keras.Input(shape=(1), dtype=tf.float32)\n",
    "    typeinput = keras.Input(shape=(1), dtype=tf.string)\n",
    "    totalidxinput = keras.Input(shape=(1), dtype=tf.float32)\n",
    "    \n",
    "    typeinput2 = layers.StringLookup(vocabulary=vocab, output_mode=\"multi_hot\")(typeinput)\n",
    "    typeinput2 = layers.Reshape((typeinput2.shape[1], 1))(typeinput2)\n",
    "    \n",
    "    idxinput2 = layers.Reshape((idxinput.shape[1],1))(idxinput)\n",
    "    totalidxinput2 = layers.Reshape((idxinput.shape[1],1))(totalidxinput)\n",
    "    \n",
    "    \n",
    "    x = layers.Concatenate(axis=1)([timeinput, idxinput2, typeinput2, totalidxinput2])\n",
    "    x = layers.Reshape((1, x.shape[1]))(x)\n",
    "    \n",
    "    x = layers.Dense(200)(x)\n",
    "    x = rnnlayer(200, return_sequences=True)(x)\n",
    "    x = layers.Dense(120)(x)\n",
    "    x = rnnlayer(120, return_sequences=True)(x)\n",
    "    x = layers.Dense(80)(x)\n",
    "    x = rnnlayer(80, return_sequences=True)(x)\n",
    "    x = layers.Dense(40)(x)\n",
    "    x = rnnlayer(40, return_sequences=False)(x)\n",
    "    # x = layers.Dense(25)(x)\n",
    "    for i in range(5):\n",
    "        x = layers.Dense(25)(x)\n",
    "    x = layers.Dense(1)(x)\n",
    "    x = layers.Reshape((1,))(x)\n",
    "    x = layers.ReLU()(x)\n",
    "    \n",
    "    m = keras.Model(inputs=[timeinput, idxinput, typeinput, totalidxinput], outputs=x)\n",
    "    \n",
    "    m.build((None, lookback, 1))\n",
    "    m.summary()\n",
    "    return m'''\n",
    "    \n",
    "    timeinput = keras.Input(shape=(lookback, 1))\n",
    "    idxinput = keras.Input(shape=(1), dtype=tf.float32)\n",
    "    typeinput = keras.Input(shape=(1), dtype=tf.string)\n",
    "    totalidxinput = keras.Input(shape=(1), dtype=tf.float32)\n",
    "\n",
    "    vocab = [\"Case\"]\n",
    "\n",
    "    typeinput2 = layers.StringLookup(vocabulary=vocab, output_mode=\"multi_hot\")(typeinput)\n",
    "    typeinput2 = layers.Reshape((typeinput2.shape[1], 1))(typeinput2)\n",
    "\n",
    "    idxinput2 = layers.Reshape((idxinput.shape[1], 1))(idxinput)\n",
    "    totalidxinput2 = layers.Reshape((idxinput.shape[1], 1))(totalidxinput)\n",
    "    timeinput2 = layers.Normalization()(timeinput)\n",
    "\n",
    "    for i in range(5):\n",
    "        timeinput2 = rnnlayer(80, return_sequences=True)(timeinput2)\n",
    "    timeinput2 = rnnlayer(80, return_sequences=False)(timeinput2)\n",
    "    timeinput2 = layers.Reshape((timeinput2.shape[1], 1))(timeinput2)\n",
    "\n",
    "    x = layers.Concatenate(axis=1)([timeinput2, idxinput2, typeinput2, totalidxinput2])\n",
    "    x = layers.Reshape((1, x.shape[1]))(x)\n",
    "\n",
    "    for i in range(20):\n",
    "        x = layers.Dense(20)(x)\n",
    "\n",
    "    x = layers.Dense(1)(x)\n",
    "    m = keras.Model(inputs=[timeinput, idxinput, typeinput, totalidxinput], outputs=x)\n",
    "\n",
    "    m.build((None, lookback, 1))\n",
    "    m.summary()\n",
    "    return m\n",
    "model=getmodel()"
   ]
  },
  {
   "cell_type": "code",
   "execution_count": 12,
   "metadata": {},
   "outputs": [
    {
     "name": "stdout",
     "output_type": "stream",
     "text": [
      "Epoch 1/100\n",
      "339/460 [=====================>........] - ETA: 13s - loss: 156.6864 - accuracy: 9.2183e-05 - root_mean_squared_error: 252.3463 - mean_absolute_percentage_error: 156.6864"
     ]
    },
    {
     "name": "stderr",
     "output_type": "stream",
     "text": [
      "\n",
      "KeyboardInterrupt\n",
      "\n"
     ]
    }
   ],
   "source": [
    "%%time\n",
    "model.compile(optimizer=\"adam\",loss=\"mean_absolute_percentage_error\", metrics=[\"accuracy\", keras.metrics.RootMeanSquaredError(), keras.metrics.MeanAbsolutePercentageError()], callbacks=[keras.callbacks.EarlyStopping(monitor='loss', patience=3)])\n",
    "history=model.fit(xtrain, ytrain, batch_size=32, epochs=100, verbose=1)"
   ]
  },
  {
   "cell_type": "code",
   "execution_count": 7,
   "metadata": {},
   "outputs": [],
   "source": [
    "model.save(\"model.hdf5\")"
   ]
  },
  {
   "cell_type": "code",
   "execution_count": 8,
   "metadata": {},
   "outputs": [],
   "source": [
    "model = models.load_model(\"model.hdf5\")"
   ]
  },
  {
   "cell_type": "code",
   "execution_count": 9,
   "metadata": {},
   "outputs": [
    {
     "name": "stdout",
     "output_type": "stream",
     "text": [
      "460/460 [==============================] - 2s 2ms/step\n",
      "(14714, 1)\n",
      "(14714, 1)\n",
      "<class 'numpy.ndarray'>\n",
      "Training MAPE 100.0\n",
      "Average testing distance percentage: 100.0\n",
      "[[ 36.12]\n",
      " [ 33.81]\n",
      " [325.39]\n",
      " ...\n",
      " [  2.71]\n",
      " [  6.72]\n",
      " [  3.82]]\n",
      "[[0.]\n",
      " [0.]\n",
      " [0.]\n",
      " ...\n",
      " [0.]\n",
      " [0.]\n",
      " [0.]]\n"
     ]
    }
   ],
   "source": [
    "pred = model.predict(xtrain)\n",
    "print(pred.shape)\n",
    "print(ytrain.shape)\n",
    "print(type(pred))\n",
    "# pred = scaler.inverse_transform(pred)\n",
    "\n",
    "print(\"Training MAPE\",np.mean(np.abs((ytrain - pred) / ytrain)) * 100)\n",
    "print(\"Average testing distance percentage:\", np.mean(np.divide(np.absolute(pred-ytrain),ytrain))*100)\n",
    "print(ytrain)\n",
    "print(pred)"
   ]
  },
  {
   "cell_type": "code",
   "execution_count": 10,
   "metadata": {},
   "outputs": [
    {
     "name": "stdout",
     "output_type": "stream",
     "text": [
      "115/115 [==============================] - 0s 2ms/step\n",
      "Testing MAPE 100.0\n",
      "Average testing distance percentage: 100.0\n",
      "[[3.0000e-02]\n",
      " [4.0285e+02]\n",
      " [9.9500e+00]\n",
      " ...\n",
      " [1.2884e+03]\n",
      " [6.8190e+01]\n",
      " [6.7950e+01]]\n",
      "[[0.]\n",
      " [0.]\n",
      " [0.]\n",
      " ...\n",
      " [0.]\n",
      " [0.]\n",
      " [0.]]\n"
     ]
    }
   ],
   "source": [
    "pred = model.predict(xtest)\n",
    "print(\"Testing MAPE\",np.mean(np.abs((ytest - pred) / ytest)) * 100)\n",
    "print(\"Average testing distance percentage:\", np.mean(np.divide(np.absolute(pred-ytest),ytest))*100)\n",
    "print(ytest)\n",
    "print(pred)"
   ]
  },
  {
   "cell_type": "code",
   "execution_count": 11,
   "metadata": {},
   "outputs": [
    {
     "name": "stdout",
     "output_type": "stream",
     "text": [
      "460/460 [==============================] - 2s 2ms/step - loss: 88.1373 - accuracy: 0.0000e+00 - root_mean_squared_error: 250.0299 - mean_absolute_percentage_error: 88.1373\n"
     ]
    },
    {
     "data": {
      "text/plain": [
       "[88.13728332519531, 0.0, 250.0298614501953, 88.13728332519531]"
      ]
     },
     "execution_count": 11,
     "metadata": {},
     "output_type": "execute_result"
    }
   ],
   "source": [
    "model.evaluate(xtrain, ytrain)"
   ]
  },
  {
   "cell_type": "code",
   "execution_count": 12,
   "metadata": {},
   "outputs": [
    {
     "name": "stdout",
     "output_type": "stream",
     "text": [
      "115/115 [==============================] - 0s 3ms/step - loss: 87.6233 - accuracy: 0.0000e+00 - root_mean_squared_error: 257.5083 - mean_absolute_percentage_error: 87.6233\n"
     ]
    },
    {
     "data": {
      "text/plain": [
       "[87.6232681274414, 0.0, 257.5083312988281, 87.6232681274414]"
      ]
     },
     "execution_count": 12,
     "metadata": {},
     "output_type": "execute_result"
    }
   ],
   "source": [
    "model.evaluate(xtest, ytest)"
   ]
  },
  {
   "cell_type": "code",
   "execution_count": 13,
   "metadata": {},
   "outputs": [
    {
     "name": "stdout",
     "output_type": "stream",
     "text": [
      "1/1 [==============================] - 0s 129ms/step\n"
     ]
    },
    {
     "data": {
      "text/plain": [
       "array([[0.]], dtype=float32)"
      ]
     },
     "execution_count": 13,
     "metadata": {},
     "output_type": "execute_result"
    }
   ],
   "source": [
    "model.predict([np.zeros((1,60, 1)), np.asarray([42069]), np.asarray([\"Knife\"]), np.asarray([100100])])"
   ]
  },
  {
   "cell_type": "code",
   "execution_count": 14,
   "metadata": {},
   "outputs": [],
   "source": [
    "tf.keras.backend.clear_session()"
   ]
  },
  {
   "cell_type": "code",
   "execution_count": 15,
   "metadata": {},
   "outputs": [],
   "source": [
    "device = cuda.get_current_device()\n",
    "device.reset()"
   ]
  },
  {
   "cell_type": "code",
   "execution_count": null,
   "metadata": {},
   "outputs": [],
   "source": []
  }
 ],
 "metadata": {
  "kernelspec": {
   "display_name": "coen174_venv",
   "language": "python",
   "name": "coen174_venv"
  },
  "language_info": {
   "codemirror_mode": {
    "name": "ipython",
    "version": 3
   },
   "file_extension": ".py",
   "mimetype": "text/x-python",
   "name": "python",
   "nbconvert_exporter": "python",
   "pygments_lexer": "ipython3",
   "version": "3.9.0"
  }
 },
 "nbformat": 4,
 "nbformat_minor": 4
}
