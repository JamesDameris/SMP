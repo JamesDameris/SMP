{
 "cells": [
  {
   "cell_type": "code",
   "execution_count": 33,
   "metadata": {},
   "outputs": [
    {
     "name": "stdout",
     "output_type": "stream",
     "text": [
      "[PhysicalDevice(name='/physical_device:GPU:0', device_type='GPU')]\n",
      "Device mapping:\n",
      "/job:localhost/replica:0/task:0/device:GPU:0 -> device: 0, name: NVIDIA GeForce RTX 2070 Super, pci bus id: 0000:01:00.0, compute capability: 7.5\n",
      "\n"
     ]
    }
   ],
   "source": [
    "import numpy as np\n",
    "import tensorflow as tf\n",
    "from tensorflow import keras\n",
    "from tensorflow.keras import layers, models\n",
    "from tensorflow.python.keras.engine.base_preprocessing_layer import PreprocessingLayer\n",
    "import requests\n",
    "import urllib.parse\n",
    "import math\n",
    "from sklearn.preprocessing import MinMaxScaler \n",
    "import matplotlib.pyplot as plt\n",
    "import cupy as cp\n",
    "import seaborn\n",
    "from numba import cuda\n",
    "import dataset\n",
    "from importlib import reload\n",
    "import os.path\n",
    "\n",
    "reload(dataset)\n",
    "print(tf.config.list_physical_devices('GPU'))\n",
    "tf.compat.v1.enable_eager_execution()\n",
    "\n",
    "config = tf.compat.v1.ConfigProto()\n",
    "config.gpu_options.allow_growth = True  # dynamically grow the memory used on the GPU\n",
    "config.log_device_placement = True  # to log device placement (on which device the operation ran)\n",
    "                                    # (nothing gets printed in Jupyter, only if you run it standalone)\n",
    "sess = tf.compat.v1.Session(config=config)\n",
    "tf.compat.v1.keras.backend.set_session(sess)  # set this TensorFlow session as the default session for Keras\n",
    "keras.backend.set_epsilon(1)"
   ]
  },
  {
   "cell_type": "code",
   "execution_count": 43,
   "metadata": {},
   "outputs": [],
   "source": [
    "def savedata(xtrain, ytrain, xtest, ytest, name=\"data\"):\n",
    "    np.savez_compressed(os.path.join(\"saveddata\",name), timetrain=xtrain[0], idxtrain=xtrain[1], typetrain=xtrain[2], totidxtrain=xtrain[3], ytrain=ytrain,\n",
    "                       timetest=xtest[0], idxtest=xtest[1], typetest=xtest[2], totidxtest=xtest[3], ytest=ytest)\n",
    "def loaddata(name=\"data\"):\n",
    "    with np.load(os.path.join(\"saveddata\",(name if name.endswith(\".npz\") else name+\".npz\"))) as data:\n",
    "        xtrain = [data[\"timetrain\"], data[\"idxtrain\"], data[\"typetrain\"], data[\"totidxtrain\"]]\n",
    "        ytrain = data[\"ytrain\"]\n",
    "        xtest = [data[\"timetest\"], data[\"idxtest\"], data[\"typetest\"], data[\"totidxtest\"]]\n",
    "        ytest = data[\"ytest\"]\n",
    "    return xtrain, ytrain, xtest, ytest"
   ]
  },
  {
   "cell_type": "code",
   "execution_count": 57,
   "metadata": {},
   "outputs": [
    {
     "name": "stdout",
     "output_type": "stream",
     "text": [
      "★ M9 Bayonet | Fade (Factory New)\n",
      "StatTrak™ AK-47 | Ice Coaled (Factory New)\n",
      "Recoil Case\n",
      "CS:GO Weapon Case\n",
      "Sticker | s1mple (Gold) | Katowice 2019\n",
      "Sealed Graffiti | NaCl (Shark White)\n",
      "Canals Pin\n",
      "StatTrak™ Music Kit | Hundredth, FREE\n",
      "Stockholm 2021 Challengers Patch Pack\n",
      "Number K | The Professionals\n",
      "★ Broken Fang Gloves | Needle Point (Field-Tested)\n",
      "AWP | Asiimov (Well-Worn)\n",
      "timeinputstrain.shape=(14816, 60, 1)\n",
      "idxinputstrain.shape=(14816,)\n",
      "typeinputstrain.shape=(14816,)\n",
      "totidxinputstrain.shape=(14816,)\n",
      "ytrain.shape=(14816, 1)\n",
      "timeinputstest.shape=(3704, 60, 1)\n",
      "idxinputstest.shape=(3704,)\n",
      "typeinputstest.shape=(3704,)\n",
      "totidxinputstest.shape=(3704,)\n",
      "ytest.shape=(3704, 1)\n"
     ]
    }
   ],
   "source": [
    "lookback=60\n",
    "xtrain, ytrain, xtest, ytest = dataset.getdata(lookback=lookback, items = [\n",
    "    (\"★ M9 Bayonet | Fade (Factory New)\", \"Knife\"),\n",
    "    (\"StatTrak™ AK-47 | Ice Coaled (Factory New)\", \"Gun\"),\n",
    "    (\"Recoil Case\", \"Case\"),\n",
    "    (\"CS:GO Weapon Case\", \"Case\"),\n",
    "    (\"Sticker | s1mple (Gold) | Katowice 2019\", \"Sticker\"),\n",
    "    (\"Sealed Graffiti | NaCl (Shark White)\", \"Graffiti\"),\n",
    "    (\"Canals Pin\", \"Pin\"),\n",
    "    (\"StatTrak™ Music Kit | Hundredth, FREE\", \"Music\"),\n",
    "    (\"Stockholm 2021 Challengers Patch Pack\", \"Patch\"),\n",
    "    (\"Number K | The Professionals\", \"Agent\"),\n",
    "    (\"★ Broken Fang Gloves | Needle Point (Field-Tested)\", \"Gloves\"),\n",
    "    (\"AWP | Asiimov (Well-Worn)\", \"Gun\"),\n",
    "    # (\"AWP | Asiimov (Factory New)\", \"Gun\"),\n",
    "    # (\"★ Broken Fang Gloves | Needle Point (Well-Worn)\", \"Gloves\"),\n",
    "])\n",
    "savedata(xtrain, ytrain, xtest, ytest)"
   ]
  },
  {
   "cell_type": "code",
   "execution_count": 58,
   "metadata": {},
   "outputs": [
    {
     "name": "stdout",
     "output_type": "stream",
     "text": [
      "CPU times: total: 31.2 ms\n",
      "Wall time: 46.9 ms\n"
     ]
    }
   ],
   "source": [
    "%%time\n",
    "xtrain, ytrain, xtest, ytest = loaddata()"
   ]
  },
  {
   "cell_type": "code",
   "execution_count": 82,
   "metadata": {},
   "outputs": [
    {
     "name": "stdout",
     "output_type": "stream",
     "text": [
      "Model: \"model_9\"\n",
      "__________________________________________________________________________________________________\n",
      " Layer (type)                   Output Shape         Param #     Connected to                     \n",
      "==================================================================================================\n",
      " input_39 (InputLayer)          [(None, 1)]          0           []                               \n",
      "                                                                                                  \n",
      " input_38 (InputLayer)          [(None, 1)]          0           []                               \n",
      "                                                                                                  \n",
      " string_lookup_9 (StringLookup)  (None, 11)          0           ['input_39[0][0]']               \n",
      "                                                                                                  \n",
      " input_40 (InputLayer)          [(None, 1)]          0           []                               \n",
      "                                                                                                  \n",
      " input_37 (InputLayer)          [(None, 60, 1)]      0           []                               \n",
      "                                                                                                  \n",
      " reshape_46 (Reshape)           (None, 1, 1)         0           ['input_38[0][0]']               \n",
      "                                                                                                  \n",
      " reshape_45 (Reshape)           (None, 11, 1)        0           ['string_lookup_9[0][0]']        \n",
      "                                                                                                  \n",
      " reshape_47 (Reshape)           (None, 1, 1)         0           ['input_40[0][0]']               \n",
      "                                                                                                  \n",
      " concatenate_9 (Concatenate)    (None, 73, 1)        0           ['input_37[0][0]',               \n",
      "                                                                  'reshape_46[0][0]',             \n",
      "                                                                  'reshape_45[0][0]',             \n",
      "                                                                  'reshape_47[0][0]']             \n",
      "                                                                                                  \n",
      " reshape_48 (Reshape)           (None, 1, 73)        0           ['concatenate_9[0][0]']          \n",
      "                                                                                                  \n",
      " dense_42 (Dense)               (None, 1, 200)       14800       ['reshape_48[0][0]']             \n",
      "                                                                                                  \n",
      " gru_17 (GRU)                   (None, 1, 200)       241200      ['dense_42[0][0]']               \n",
      "                                                                                                  \n",
      " dense_43 (Dense)               (None, 1, 120)       24120       ['gru_17[0][0]']                 \n",
      "                                                                                                  \n",
      " gru_18 (GRU)                   (None, 1, 120)       87120       ['dense_43[0][0]']               \n",
      "                                                                                                  \n",
      " dense_44 (Dense)               (None, 1, 80)        9680        ['gru_18[0][0]']                 \n",
      "                                                                                                  \n",
      " gru_19 (GRU)                   (None, 1, 80)        38880       ['dense_44[0][0]']               \n",
      "                                                                                                  \n",
      " dense_45 (Dense)               (None, 1, 40)        3240        ['gru_19[0][0]']                 \n",
      "                                                                                                  \n",
      " gru_20 (GRU)                   (None, 40)           9840        ['dense_45[0][0]']               \n",
      "                                                                                                  \n",
      " dense_46 (Dense)               (None, 25)           1025        ['gru_20[0][0]']                 \n",
      "                                                                                                  \n",
      " dense_47 (Dense)               (None, 25)           650         ['dense_46[0][0]']               \n",
      "                                                                                                  \n",
      " dense_48 (Dense)               (None, 25)           650         ['dense_47[0][0]']               \n",
      "                                                                                                  \n",
      " dense_49 (Dense)               (None, 25)           650         ['dense_48[0][0]']               \n",
      "                                                                                                  \n",
      " dense_50 (Dense)               (None, 25)           650         ['dense_49[0][0]']               \n",
      "                                                                                                  \n",
      " dense_51 (Dense)               (None, 1)            26          ['dense_50[0][0]']               \n",
      "                                                                                                  \n",
      " reshape_49 (Reshape)           (None, 1)            0           ['dense_51[0][0]']               \n",
      "                                                                                                  \n",
      " re_lu_9 (ReLU)                 (None, 1)            0           ['reshape_49[0][0]']             \n",
      "                                                                                                  \n",
      "==================================================================================================\n",
      "Total params: 432,531\n",
      "Trainable params: 432,531\n",
      "Non-trainable params: 0\n",
      "__________________________________________________________________________________________________\n"
     ]
    }
   ],
   "source": [
    "rnnlayer = layers.GRU\n",
    "def getmodel():\n",
    "    \"\"\"m = keras.Sequential([\n",
    "        ,\n",
    "        layers.Dense(80),\n",
    "        layers.GRU(80, return_sequences=False, input_shape=(lookback, 1)),\n",
    "        layers.Dense(25),\n",
    "        layers.Dense(1),\n",
    "    ])\"\"\"\n",
    "    \n",
    "    vocab = [\"Gloves\", \"Agent\", \"Patch\", \"Music\", \"Pin\", \"Graffiti\", \"Sticker\", \"Case\", \"Knife\", \"Gun\"]\n",
    "    timeinput = keras.Input(shape=(lookback, 1))\n",
    "    idxinput = keras.Input(shape=(1), dtype=tf.float32)\n",
    "    typeinput = keras.Input(shape=(1), dtype=tf.string)\n",
    "    totalidxinput = keras.Input(shape=(1), dtype=tf.float32)\n",
    "    \n",
    "    typeinput2 = layers.StringLookup(vocabulary=vocab, output_mode=\"multi_hot\")(typeinput)\n",
    "    typeinput2 = layers.Reshape((typeinput2.shape[1], 1))(typeinput2)\n",
    "    \n",
    "    idxinput2 = layers.Reshape((idxinput.shape[1],1))(idxinput)\n",
    "    totalidxinput2 = layers.Reshape((idxinput.shape[1],1))(totalidxinput)\n",
    "    \n",
    "    \n",
    "    x = layers.Concatenate(axis=1)([timeinput, idxinput2, typeinput2, totalidxinput2])\n",
    "    x = layers.Reshape((1, x.shape[1]))(x)\n",
    "    \n",
    "    x = layers.Dense(200)(x)\n",
    "    x = rnnlayer(200, return_sequences=True)(x)\n",
    "    x = layers.Dense(120)(x)\n",
    "    x = rnnlayer(120, return_sequences=True)(x)\n",
    "    x = layers.Dense(80)(x)\n",
    "    x = rnnlayer(80, return_sequences=True)(x)\n",
    "    x = layers.Dense(40)(x)\n",
    "    x = rnnlayer(40, return_sequences=False)(x)\n",
    "    # x = layers.Dense(25)(x)\n",
    "    for i in range(5):\n",
    "        x = layers.Dense(25)(x)\n",
    "    x = layers.Dense(1)(x)\n",
    "    x = layers.Reshape((1,))(x)\n",
    "    x = layers.ReLU()(x)\n",
    "    \n",
    "    m = keras.Model(inputs=[timeinput, idxinput, typeinput, totalidxinput], outputs=x)\n",
    "    \n",
    "    m.build((None, lookback, 1))\n",
    "    m.summary()\n",
    "    return m\n",
    "model=getmodel()"
   ]
  },
  {
   "cell_type": "code",
   "execution_count": null,
   "metadata": {},
   "outputs": [
    {
     "name": "stdout",
     "output_type": "stream",
     "text": [
      "Epoch 1/100\n",
      "463/463 [==============================] - 10s 13ms/step - loss: 87.0355 - accuracy: 2.0248e-04 - root_mean_squared_error: 249.1617 - mean_absolute_percentage_error: 87.0355\n",
      "Epoch 2/100\n",
      "463/463 [==============================] - 6s 12ms/step - loss: 86.8430 - accuracy: 1.3499e-04 - root_mean_squared_error: 249.1412 - mean_absolute_percentage_error: 86.8430\n",
      "Epoch 3/100\n",
      "463/463 [==============================] - 6s 12ms/step - loss: 87.2619 - accuracy: 1.3499e-04 - root_mean_squared_error: 249.0327 - mean_absolute_percentage_error: 87.2619\n",
      "Epoch 4/100\n",
      "463/463 [==============================] - 6s 12ms/step - loss: 86.8983 - accuracy: 6.7495e-05 - root_mean_squared_error: 249.1751 - mean_absolute_percentage_error: 86.8983\n",
      "Epoch 5/100\n",
      "463/463 [==============================] - 6s 12ms/step - loss: 86.7989 - accuracy: 2.6998e-04 - root_mean_squared_error: 249.0764 - mean_absolute_percentage_error: 86.7989\n",
      "Epoch 6/100\n",
      "463/463 [==============================] - 5s 12ms/step - loss: 86.8767 - accuracy: 6.7495e-05 - root_mean_squared_error: 249.1888 - mean_absolute_percentage_error: 86.8767\n",
      "Epoch 7/100\n",
      "463/463 [==============================] - 7s 14ms/step - loss: 86.8703 - accuracy: 6.7495e-05 - root_mean_squared_error: 249.1291 - mean_absolute_percentage_error: 86.8703\n",
      "Epoch 8/100\n",
      "463/463 [==============================] - 7s 14ms/step - loss: 86.8532 - accuracy: 1.3499e-04 - root_mean_squared_error: 249.1166 - mean_absolute_percentage_error: 86.8532\n",
      "Epoch 9/100\n",
      "463/463 [==============================] - 6s 12ms/step - loss: 86.8333 - accuracy: 2.0248e-04 - root_mean_squared_error: 249.1350 - mean_absolute_percentage_error: 86.8333\n",
      "Epoch 10/100\n",
      "463/463 [==============================] - 6s 12ms/step - loss: 86.8357 - accuracy: 1.3499e-04 - root_mean_squared_error: 249.1252 - mean_absolute_percentage_error: 86.8357\n",
      "Epoch 11/100\n",
      "463/463 [==============================] - 6s 12ms/step - loss: 86.8370 - accuracy: 2.0248e-04 - root_mean_squared_error: 249.1283 - mean_absolute_percentage_error: 86.8370\n",
      "Epoch 12/100\n",
      "463/463 [==============================] - 6s 12ms/step - loss: 86.8583 - accuracy: 1.3499e-04 - root_mean_squared_error: 249.1306 - mean_absolute_percentage_error: 86.8583\n",
      "Epoch 13/100\n",
      "463/463 [==============================] - 6s 12ms/step - loss: 86.8396 - accuracy: 3.3747e-04 - root_mean_squared_error: 249.0958 - mean_absolute_percentage_error: 86.8396\n",
      "Epoch 14/100\n",
      "463/463 [==============================] - 6s 12ms/step - loss: 86.8290 - accuracy: 2.6998e-04 - root_mean_squared_error: 249.1354 - mean_absolute_percentage_error: 86.8290\n",
      "Epoch 15/100\n",
      "463/463 [==============================] - 6s 12ms/step - loss: 86.8122 - accuracy: 3.3747e-04 - root_mean_squared_error: 249.0717 - mean_absolute_percentage_error: 86.8122\n",
      "Epoch 16/100\n",
      "463/463 [==============================] - 6s 12ms/step - loss: 86.8360 - accuracy: 1.3499e-04 - root_mean_squared_error: 249.1385 - mean_absolute_percentage_error: 86.8360\n",
      "Epoch 17/100\n",
      "463/463 [==============================] - 6s 12ms/step - loss: 86.8233 - accuracy: 3.3747e-04 - root_mean_squared_error: 249.1174 - mean_absolute_percentage_error: 86.8233\n",
      "Epoch 18/100\n",
      "463/463 [==============================] - 6s 12ms/step - loss: 86.8301 - accuracy: 2.6998e-04 - root_mean_squared_error: 249.1146 - mean_absolute_percentage_error: 86.8301\n",
      "Epoch 19/100\n",
      "463/463 [==============================] - 6s 12ms/step - loss: 86.8309 - accuracy: 2.0248e-04 - root_mean_squared_error: 249.1207 - mean_absolute_percentage_error: 86.8309\n",
      "Epoch 20/100\n",
      "463/463 [==============================] - 6s 12ms/step - loss: 86.8341 - accuracy: 6.7495e-05 - root_mean_squared_error: 249.1299 - mean_absolute_percentage_error: 86.8341\n",
      "Epoch 21/100\n",
      "463/463 [==============================] - 6s 12ms/step - loss: 86.8285 - accuracy: 3.3747e-04 - root_mean_squared_error: 249.1068 - mean_absolute_percentage_error: 86.8285\n",
      "Epoch 22/100\n",
      "463/463 [==============================] - 6s 12ms/step - loss: 86.8307 - accuracy: 2.0248e-04 - root_mean_squared_error: 249.1039 - mean_absolute_percentage_error: 86.8307\n",
      "Epoch 23/100\n",
      "463/463 [==============================] - 6s 12ms/step - loss: 86.8264 - accuracy: 6.7495e-05 - root_mean_squared_error: 249.1226 - mean_absolute_percentage_error: 86.8264\n",
      "Epoch 24/100\n",
      "463/463 [==============================] - 6s 12ms/step - loss: 86.8195 - accuracy: 1.3499e-04 - root_mean_squared_error: 249.1333 - mean_absolute_percentage_error: 86.8195\n",
      "Epoch 25/100\n",
      "463/463 [==============================] - 6s 12ms/step - loss: 86.8142 - accuracy: 1.3499e-04 - root_mean_squared_error: 249.1375 - mean_absolute_percentage_error: 86.8142\n",
      "Epoch 26/100\n",
      "463/463 [==============================] - 6s 12ms/step - loss: 86.8495 - accuracy: 2.6998e-04 - root_mean_squared_error: 249.0950 - mean_absolute_percentage_error: 86.8495\n",
      "Epoch 27/100\n",
      "463/463 [==============================] - 6s 12ms/step - loss: 86.8186 - accuracy: 2.0248e-04 - root_mean_squared_error: 249.1268 - mean_absolute_percentage_error: 86.8186\n",
      "Epoch 28/100\n",
      "463/463 [==============================] - 6s 12ms/step - loss: 86.8151 - accuracy: 3.3747e-04 - root_mean_squared_error: 249.1140 - mean_absolute_percentage_error: 86.8151\n",
      "Epoch 29/100\n",
      "463/463 [==============================] - 6s 12ms/step - loss: 86.8149 - accuracy: 2.6998e-04 - root_mean_squared_error: 249.1280 - mean_absolute_percentage_error: 86.8149\n",
      "Epoch 30/100\n",
      "463/463 [==============================] - 6s 12ms/step - loss: 86.9597 - accuracy: 2.0248e-04 - root_mean_squared_error: 249.1439 - mean_absolute_percentage_error: 86.9597\n",
      "Epoch 31/100\n",
      "463/463 [==============================] - 6s 12ms/step - loss: 87.8498 - accuracy: 0.0000e+00 - root_mean_squared_error: 249.3750 - mean_absolute_percentage_error: 87.8498\n",
      "Epoch 32/100\n",
      "463/463 [==============================] - 6s 13ms/step - loss: 87.8498 - accuracy: 0.0000e+00 - root_mean_squared_error: 249.3750 - mean_absolute_percentage_error: 87.8498\n",
      "Epoch 33/100\n",
      "463/463 [==============================] - 6s 13ms/step - loss: 87.8498 - accuracy: 0.0000e+00 - root_mean_squared_error: 249.3751 - mean_absolute_percentage_error: 87.8498\n",
      "Epoch 34/100\n",
      "463/463 [==============================] - 6s 13ms/step - loss: 87.8498 - accuracy: 0.0000e+00 - root_mean_squared_error: 249.3751 - mean_absolute_percentage_error: 87.8498\n",
      "Epoch 35/100\n",
      "463/463 [==============================] - 6s 13ms/step - loss: 87.8498 - accuracy: 0.0000e+00 - root_mean_squared_error: 249.3750 - mean_absolute_percentage_error: 87.8498\n",
      "Epoch 36/100\n",
      "463/463 [==============================] - 6s 14ms/step - loss: 87.8498 - accuracy: 0.0000e+00 - root_mean_squared_error: 249.3750 - mean_absolute_percentage_error: 87.8498\n",
      "Epoch 37/100\n",
      "463/463 [==============================] - 6s 12ms/step - loss: 87.8498 - accuracy: 0.0000e+00 - root_mean_squared_error: 249.3751 - mean_absolute_percentage_error: 87.8498\n",
      "Epoch 38/100\n",
      "463/463 [==============================] - 6s 12ms/step - loss: 87.8498 - accuracy: 0.0000e+00 - root_mean_squared_error: 249.3751 - mean_absolute_percentage_error: 87.8498\n",
      "Epoch 39/100\n",
      "463/463 [==============================] - 6s 12ms/step - loss: 87.8498 - accuracy: 0.0000e+00 - root_mean_squared_error: 249.3751 - mean_absolute_percentage_error: 87.8498\n",
      "Epoch 40/100\n",
      "463/463 [==============================] - 6s 13ms/step - loss: 87.8498 - accuracy: 0.0000e+00 - root_mean_squared_error: 249.3751 - mean_absolute_percentage_error: 87.8498\n",
      "Epoch 41/100\n",
      "463/463 [==============================] - 6s 12ms/step - loss: 87.8498 - accuracy: 0.0000e+00 - root_mean_squared_error: 249.3750 - mean_absolute_percentage_error: 87.8498\n",
      "Epoch 42/100\n",
      "463/463 [==============================] - 6s 13ms/step - loss: 87.8498 - accuracy: 0.0000e+00 - root_mean_squared_error: 249.3751 - mean_absolute_percentage_error: 87.8498\n",
      "Epoch 43/100\n",
      "463/463 [==============================] - 6s 12ms/step - loss: 87.8498 - accuracy: 0.0000e+00 - root_mean_squared_error: 249.3751 - mean_absolute_percentage_error: 87.8498\n",
      "Epoch 44/100\n",
      "463/463 [==============================] - 6s 12ms/step - loss: 87.8498 - accuracy: 0.0000e+00 - root_mean_squared_error: 249.3750 - mean_absolute_percentage_error: 87.8498\n",
      "Epoch 45/100\n",
      "463/463 [==============================] - 6s 12ms/step - loss: 87.8498 - accuracy: 0.0000e+00 - root_mean_squared_error: 249.3751 - mean_absolute_percentage_error: 87.8498\n",
      "Epoch 46/100\n",
      "463/463 [==============================] - 6s 12ms/step - loss: 87.8498 - accuracy: 0.0000e+00 - root_mean_squared_error: 249.3750 - mean_absolute_percentage_error: 87.8498\n",
      "Epoch 47/100\n",
      "463/463 [==============================] - 6s 12ms/step - loss: 87.8498 - accuracy: 0.0000e+00 - root_mean_squared_error: 249.3751 - mean_absolute_percentage_error: 87.8498\n",
      "Epoch 48/100\n",
      "463/463 [==============================] - 6s 12ms/step - loss: 87.8498 - accuracy: 0.0000e+00 - root_mean_squared_error: 249.3751 - mean_absolute_percentage_error: 87.8498\n",
      "Epoch 49/100\n",
      "463/463 [==============================] - 6s 12ms/step - loss: 87.8498 - accuracy: 0.0000e+00 - root_mean_squared_error: 249.3751 - mean_absolute_percentage_error: 87.8498\n",
      "Epoch 50/100\n",
      "463/463 [==============================] - 6s 12ms/step - loss: 87.8498 - accuracy: 0.0000e+00 - root_mean_squared_error: 249.3751 - mean_absolute_percentage_error: 87.8498\n",
      "Epoch 51/100\n",
      "463/463 [==============================] - 6s 12ms/step - loss: 87.8498 - accuracy: 0.0000e+00 - root_mean_squared_error: 249.3751 - mean_absolute_percentage_error: 87.8498\n",
      "Epoch 52/100\n",
      "463/463 [==============================] - 6s 12ms/step - loss: 87.8498 - accuracy: 0.0000e+00 - root_mean_squared_error: 249.3750 - mean_absolute_percentage_error: 87.8498\n",
      "Epoch 53/100\n",
      "463/463 [==============================] - 6s 13ms/step - loss: 87.8498 - accuracy: 0.0000e+00 - root_mean_squared_error: 249.3750 - mean_absolute_percentage_error: 87.8498\n",
      "Epoch 54/100\n",
      "463/463 [==============================] - 6s 13ms/step - loss: 87.8498 - accuracy: 0.0000e+00 - root_mean_squared_error: 249.3751 - mean_absolute_percentage_error: 87.8498\n",
      "Epoch 55/100\n",
      "463/463 [==============================] - 6s 12ms/step - loss: 87.8498 - accuracy: 0.0000e+00 - root_mean_squared_error: 249.3751 - mean_absolute_percentage_error: 87.8498\n",
      "Epoch 56/100\n",
      "463/463 [==============================] - 6s 13ms/step - loss: 87.8498 - accuracy: 0.0000e+00 - root_mean_squared_error: 249.3751 - mean_absolute_percentage_error: 87.8498\n",
      "Epoch 57/100\n",
      "463/463 [==============================] - 6s 12ms/step - loss: 87.8498 - accuracy: 0.0000e+00 - root_mean_squared_error: 249.3751 - mean_absolute_percentage_error: 87.8498\n",
      "Epoch 58/100\n",
      "463/463 [==============================] - 6s 13ms/step - loss: 87.8498 - accuracy: 0.0000e+00 - root_mean_squared_error: 249.3750 - mean_absolute_percentage_error: 87.8498\n",
      "Epoch 59/100\n",
      "376/463 [=======================>......] - ETA: 1s - loss: 87.9421 - accuracy: 0.0000e+00 - root_mean_squared_error: 250.8857 - mean_absolute_percentage_error: 87.9421"
     ]
    }
   ],
   "source": [
    "%%time\n",
    "model.compile(optimizer=\"adam\",loss=\"mean_absolute_percentage_error\", metrics=[\"accuracy\", keras.metrics.RootMeanSquaredError(), keras.metrics.MeanAbsolutePercentageError()])\n",
    "history=model.fit(xtrain, ytrain, batch_size=32, epochs=100, verbose=1)"
   ]
  },
  {
   "cell_type": "code",
   "execution_count": 71,
   "metadata": {},
   "outputs": [],
   "source": [
    "model.save(\"model.hdf5\")"
   ]
  },
  {
   "cell_type": "code",
   "execution_count": 72,
   "metadata": {},
   "outputs": [],
   "source": [
    "model = models.load_model(\"model.hdf5\")"
   ]
  },
  {
   "cell_type": "code",
   "execution_count": 51,
   "metadata": {},
   "outputs": [
    {
     "name": "stdout",
     "output_type": "stream",
     "text": [
      "463/463 [==============================] - 3s 5ms/step\n",
      "(14816, 1)\n",
      "(14816, 1)\n",
      "<class 'numpy.ndarray'>\n",
      "Training MAPE 321.45890356900236\n",
      "Average testing distance percentage: 321.45890356900236\n",
      "[[5.5960e+01]\n",
      " [8.7000e-01]\n",
      " [3.0000e-02]\n",
      " ...\n",
      " [1.3300e+00]\n",
      " [2.3190e+01]\n",
      " [4.7442e+02]]\n",
      "[[ 22.636389 ]\n",
      " [  2.2465422]\n",
      " [  2.2465422]\n",
      " ...\n",
      " [  2.2465422]\n",
      " [  8.147372 ]\n",
      " [142.52293  ]]\n"
     ]
    }
   ],
   "source": [
    "pred = model.predict(xtrain)\n",
    "print(pred.shape)\n",
    "print(ytrain.shape)\n",
    "print(type(pred))\n",
    "# pred = scaler.inverse_transform(pred)\n",
    "\n",
    "print(\"Training MAPE\",np.mean(np.abs((ytrain - pred) / ytrain)) * 100)\n",
    "print(\"Average testing distance percentage:\", np.mean(np.divide(np.absolute(pred-ytrain),ytrain))*100)\n",
    "print(ytrain)\n",
    "print(pred)"
   ]
  },
  {
   "cell_type": "code",
   "execution_count": 52,
   "metadata": {},
   "outputs": [
    {
     "name": "stdout",
     "output_type": "stream",
     "text": [
      "116/116 [==============================] - 2s 7ms/step\n",
      "Testing MAPE 353.48439675358094\n",
      "Average testing distance percentage: 353.48439675358094\n",
      "[[219.84]\n",
      " [  0.82]\n",
      " [  2.62]\n",
      " ...\n",
      " [  2.46]\n",
      " [  3.47]\n",
      " [ 81.66]]\n",
      "[[142.52293  ]\n",
      " [  2.2465422]\n",
      " [  2.2465422]\n",
      " ...\n",
      " [  2.4940498]\n",
      " [  2.2465422]\n",
      " [ 55.335846 ]]\n"
     ]
    }
   ],
   "source": [
    "pred = model.predict(xtest)\n",
    "print(\"Testing MAPE\",np.mean(np.abs((ytest - pred) / ytest)) * 100)\n",
    "print(\"Average testing distance percentage:\", np.mean(np.divide(np.absolute(pred-ytest),ytest))*100)\n",
    "print(ytest)\n",
    "print(pred)"
   ]
  },
  {
   "cell_type": "code",
   "execution_count": 66,
   "metadata": {},
   "outputs": [
    {
     "name": "stdout",
     "output_type": "stream",
     "text": [
      "463/463 [==============================] - 5s 8ms/step - loss: 64.9942 - accuracy: 3.3747e-04 - root_mean_squared_error: 190.4695 - mean_absolute_percentage_error: 64.9942\n"
     ]
    },
    {
     "data": {
      "text/plain": [
       "[64.99420166015625,\n",
       " 0.00033747300039976835,\n",
       " 190.46946716308594,\n",
       " 64.99420166015625]"
      ]
     },
     "execution_count": 66,
     "metadata": {},
     "output_type": "execute_result"
    }
   ],
   "source": [
    "model.evaluate(xtrain, ytrain)"
   ]
  },
  {
   "cell_type": "code",
   "execution_count": 67,
   "metadata": {},
   "outputs": [
    {
     "name": "stdout",
     "output_type": "stream",
     "text": [
      "116/116 [==============================] - 2s 10ms/step - loss: 64.6543 - accuracy: 5.3996e-04 - root_mean_squared_error: 195.1941 - mean_absolute_percentage_error: 64.6543\n"
     ]
    },
    {
     "data": {
      "text/plain": [
       "[64.6543197631836, 0.0005399567889980972, 195.19407653808594, 64.6543197631836]"
      ]
     },
     "execution_count": 67,
     "metadata": {},
     "output_type": "execute_result"
    }
   ],
   "source": [
    "model.evaluate(xtest, ytest)"
   ]
  },
  {
   "cell_type": "code",
   "execution_count": 55,
   "metadata": {},
   "outputs": [
    {
     "name": "stdout",
     "output_type": "stream",
     "text": [
      "1/1 [==============================] - 0s 32ms/step\n"
     ]
    },
    {
     "data": {
      "text/plain": [
       "array([[0.]], dtype=float32)"
      ]
     },
     "execution_count": 55,
     "metadata": {},
     "output_type": "execute_result"
    }
   ],
   "source": [
    "model.predict([np.zeros((1,60, 1)), np.asarray([42069]), np.asarray([\"Knife\"]), np.asarray([100100])])"
   ]
  },
  {
   "cell_type": "code",
   "execution_count": 13,
   "metadata": {},
   "outputs": [],
   "source": [
    "tf.keras.backend.clear_session()"
   ]
  },
  {
   "cell_type": "code",
   "execution_count": 14,
   "metadata": {},
   "outputs": [],
   "source": [
    "device = cuda.get_current_device()\n",
    "device.reset()"
   ]
  },
  {
   "cell_type": "code",
   "execution_count": null,
   "metadata": {},
   "outputs": [],
   "source": []
  }
 ],
 "metadata": {
  "kernelspec": {
   "display_name": "coen174_venv",
   "language": "python",
   "name": "coen174_venv"
  },
  "language_info": {
   "codemirror_mode": {
    "name": "ipython",
    "version": 3
   },
   "file_extension": ".py",
   "mimetype": "text/x-python",
   "name": "python",
   "nbconvert_exporter": "python",
   "pygments_lexer": "ipython3",
   "version": "3.9.0"
  }
 },
 "nbformat": 4,
 "nbformat_minor": 4
}
