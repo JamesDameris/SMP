{
 "cells": [
  {
   "cell_type": "code",
   "execution_count": 101,
   "metadata": {},
   "outputs": [],
   "source": [
    "import numpy as np\n",
    "import tensorflow as tf\n",
    "from tensorflow import keras\n",
    "from tensorflow.keras import layers, optimizers, losses\n",
    "import random"
   ]
  },
  {
   "cell_type": "code",
   "execution_count": 106,
   "metadata": {},
   "outputs": [
    {
     "name": "stdout",
     "output_type": "stream",
     "text": [
      "Model: \"model_11\"\n",
      "_________________________________________________________________\n",
      " Layer (type)                Output Shape              Param #   \n",
      "=================================================================\n",
      " input_14 (InputLayer)       [(None, 3)]               0         \n",
      "                                                                 \n",
      " normalization (Normalizatio  (None, 3)                7         \n",
      " n)                                                              \n",
      "                                                                 \n",
      " dense_23 (Dense)            (None, 1)                 4         \n",
      "                                                                 \n",
      "=================================================================\n",
      "Total params: 11\n",
      "Trainable params: 4\n",
      "Non-trainable params: 7\n",
      "_________________________________________________________________\n"
     ]
    }
   ],
   "source": [
    "def model():\n",
    "    inputs = keras.Input(shape=(3,))\n",
    "    x=inputs\n",
    "    x = layers.Dense(1, kernel_initializer=tf.keras.initializers.Ones(), bias_initializer=tf.keras.initializers.Zeros())(x)\n",
    "    return keras.Model(inputs=inputs, outputs=x)\n",
    "tm = model()\n",
    "tm.summary()"
   ]
  },
  {
   "cell_type": "code",
   "execution_count": 107,
   "metadata": {},
   "outputs": [],
   "source": [
    "tm.compile(optimizer=optimizers.Adam(), loss=losses.MeanSquaredError())"
   ]
  },
  {
   "cell_type": "code",
   "execution_count": 108,
   "metadata": {},
   "outputs": [],
   "source": [
    "x = np.asarray([[random.random()*10000, random.random()*10000, random.random()*10000] for i in range(100000)])\n",
    "y = np.asarray([sum(i)+random.uniform(-1,1) for i in x])"
   ]
  },
  {
   "cell_type": "code",
   "execution_count": 109,
   "metadata": {},
   "outputs": [
    {
     "name": "stdout",
     "output_type": "stream",
     "text": [
      "Epoch 1/20\n",
      "3125/3125 - 7s - loss: 1.0281 - 7s/epoch - 2ms/step\n",
      "Epoch 2/20\n",
      "3125/3125 - 7s - loss: 0.9096 - 7s/epoch - 2ms/step\n",
      "Epoch 3/20\n",
      "3125/3125 - 6s - loss: 0.8532 - 6s/epoch - 2ms/step\n",
      "Epoch 4/20\n",
      "3125/3125 - 6s - loss: 0.8391 - 6s/epoch - 2ms/step\n",
      "Epoch 5/20\n",
      "3125/3125 - 6s - loss: 0.8967 - 6s/epoch - 2ms/step\n",
      "Epoch 6/20\n",
      "3125/3125 - 6s - loss: 0.8898 - 6s/epoch - 2ms/step\n",
      "Epoch 7/20\n",
      "3125/3125 - 6s - loss: 0.8668 - 6s/epoch - 2ms/step\n",
      "Epoch 8/20\n",
      "3125/3125 - 6s - loss: 0.8618 - 6s/epoch - 2ms/step\n",
      "Epoch 9/20\n",
      "3125/3125 - 7s - loss: 0.8845 - 7s/epoch - 2ms/step\n",
      "Epoch 10/20\n",
      "3125/3125 - 7s - loss: 0.8821 - 7s/epoch - 2ms/step\n",
      "Epoch 11/20\n",
      "3125/3125 - 8s - loss: 0.9005 - 8s/epoch - 2ms/step\n",
      "Epoch 12/20\n",
      "3125/3125 - 7s - loss: 0.8554 - 7s/epoch - 2ms/step\n",
      "Epoch 13/20\n",
      "3125/3125 - 7s - loss: 0.8936 - 7s/epoch - 2ms/step\n",
      "Epoch 14/20\n",
      "3125/3125 - 7s - loss: 0.8261 - 7s/epoch - 2ms/step\n",
      "Epoch 15/20\n",
      "3125/3125 - 9s - loss: 0.9113 - 9s/epoch - 3ms/step\n",
      "Epoch 16/20\n",
      "3125/3125 - 7s - loss: 0.8594 - 7s/epoch - 2ms/step\n",
      "Epoch 17/20\n",
      "3125/3125 - 7s - loss: 0.9319 - 7s/epoch - 2ms/step\n",
      "Epoch 18/20\n",
      "3125/3125 - 7s - loss: 0.8452 - 7s/epoch - 2ms/step\n",
      "Epoch 19/20\n",
      "3125/3125 - 7s - loss: 0.8581 - 7s/epoch - 2ms/step\n",
      "Epoch 20/20\n",
      "3125/3125 - 7s - loss: 0.8229 - 7s/epoch - 2ms/step\n"
     ]
    }
   ],
   "source": [
    "callbacks = [\n",
    "    keras.callbacks.TensorBoard(log_dir='./logs')\n",
    "]\n",
    "history=tm.fit(x, y, epochs=20, batch_size=32, verbose=2, callbacks=callbacks)"
   ]
  },
  {
   "cell_type": "code",
   "execution_count": 110,
   "metadata": {},
   "outputs": [
    {
     "name": "stdout",
     "output_type": "stream",
     "text": [
      "Model: \"model_11\"\n",
      "_________________________________________________________________\n",
      " Layer (type)                Output Shape              Param #   \n",
      "=================================================================\n",
      " input_14 (InputLayer)       [(None, 3)]               0         \n",
      "                                                                 \n",
      " normalization (Normalizatio  (None, 3)                7         \n",
      " n)                                                              \n",
      "                                                                 \n",
      " dense_23 (Dense)            (None, 1)                 4         \n",
      "                                                                 \n",
      "=================================================================\n",
      "Total params: 11\n",
      "Trainable params: 4\n",
      "Non-trainable params: 7\n",
      "_________________________________________________________________\n"
     ]
    },
    {
     "data": {
      "text/plain": [
       "[array([0., 0., 0.], dtype=float32),\n",
       " array([1., 1., 1.], dtype=float32),\n",
       " 0,\n",
       " array([[1.0000257],\n",
       "        [1.0000503],\n",
       "        [1.0000854]], dtype=float32),\n",
       " array([-0.00759535], dtype=float32)]"
      ]
     },
     "execution_count": 110,
     "metadata": {},
     "output_type": "execute_result"
    }
   ],
   "source": [
    "tm.summary()\n",
    "tm.get_weights()"
   ]
  },
  {
   "cell_type": "code",
   "execution_count": 111,
   "metadata": {},
   "outputs": [
    {
     "name": "stdout",
     "output_type": "stream",
     "text": [
      "1/1 [==============================] - 0s 43ms/step\n"
     ]
    },
    {
     "data": {
      "text/plain": [
       "array([[0.5924429]], dtype=float32)"
      ]
     },
     "execution_count": 111,
     "metadata": {},
     "output_type": "execute_result"
    }
   ],
   "source": [
    "tm.predict(np.asarray([[0.1,0.2,0.3]]))"
   ]
  },
  {
   "cell_type": "code",
   "execution_count": null,
   "metadata": {},
   "outputs": [],
   "source": []
  }
 ],
 "metadata": {
  "kernelspec": {
   "display_name": "coen174_venv",
   "language": "python",
   "name": "coen174_venv"
  },
  "language_info": {
   "codemirror_mode": {
    "name": "ipython",
    "version": 3
   },
   "file_extension": ".py",
   "mimetype": "text/x-python",
   "name": "python",
   "nbconvert_exporter": "python",
   "pygments_lexer": "ipython3",
   "version": "3.9.0"
  }
 },
 "nbformat": 4,
 "nbformat_minor": 4
}
